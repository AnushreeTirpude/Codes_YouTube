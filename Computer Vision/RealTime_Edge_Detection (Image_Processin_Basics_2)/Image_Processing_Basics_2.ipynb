{
 "cells": [
  {
   "cell_type": "markdown",
   "metadata": {},
   "source": [
    "### What is Image segmentation?\n",
    "\n",
    "Image segmentation is the process of dividing a digital image into multiple segments (sets of pixels, also known as image objects). The goal of segmentation is to simplify and/or change the representation of an image into something that is more meaningful and easier to analyze. Image segmentation is typically used to locate objects and boundaries (lines, curves, etc.) in images.\n",
    "\n",
    "### Thresholding \n",
    "\n",
    "Thresholding is the simplest method of segmenting images. It is used to separate out regions of an image based on variation of intensity between object pixels and background pixels. From a grayscale image, thresholding can be used to create binary images\n",
    "\n",
    "#### Fixed Thresholding \n",
    "In this method we set one threshold value (global threhold value) for all pixels in the image.\n",
    "\n",
    "#### Adaptive Thresholding \n",
    "It is the method where the threshold value is calculated for msaller regions and will have different threhold values for different regions."
   ]
  },
  {
   "cell_type": "code",
   "execution_count": 1,
   "metadata": {},
   "outputs": [
    {
     "name": "stdout",
     "output_type": "stream",
     "text": [
      "Requirement already satisfied: opencv-python in c:\\users\\pankaj_kapoor\\anaconda3\\lib\\site-packages (4.4.0.44)\n",
      "Requirement already satisfied: numpy>=1.17.3 in c:\\users\\pankaj_kapoor\\anaconda3\\lib\\site-packages (from opencv-python) (1.18.5)\n"
     ]
    }
   ],
   "source": [
    "## To install Opencv\n",
    "!pip install opencv-python"
   ]
  },
  {
   "cell_type": "code",
   "execution_count": 2,
   "metadata": {
    "id": "nXt2e-GSao2n"
   },
   "outputs": [],
   "source": [
    "# import necessary libraries\n",
    "import numpy as np\n",
    "import cv2       # import the cv2 module."
   ]
  },
  {
   "cell_type": "code",
   "execution_count": 3,
   "metadata": {},
   "outputs": [],
   "source": [
    "#Read color image as gray\n",
    "img = cv2.imread(r'C:\\Users\\images.jpg',0) \n",
    "#get the size of an image\n",
    "height, width = img.shape[:2]\n",
    "cv2.imshow(\"Original Image\", img)\n",
    "\n",
    "#create a black window\n",
    "binary=np.zeros([height, width,1],'uint8')\n",
    "\n",
    "#threshold an image\n",
    "# applying different thresholding techniques on the input image all pixels value above 120 will be set to 255 \n",
    "ret, thresh1 = cv2.threshold(img, 120, 255, cv2.THRESH_BINARY) \n",
    "ret, thresh2 = cv2.threshold(img, 120, 255, cv2.THRESH_BINARY_INV) \n",
    "ret, thresh3 = cv2.threshold(img, 120, 255, cv2.THRESH_TRUNC) \n",
    "ret, thresh4 = cv2.threshold(img, 120, 255, cv2.THRESH_TOZERO)  \n",
    "\n",
    "#for adaptive threhold use \"adaptive threshold\" function.\n",
    "# the window showing output images \n",
    "# with the corresponding thresholding \n",
    "# techniques applied to the input images \n",
    "cv2.imshow('Binary Threshold', thresh1) \n",
    "cv2.imshow('Binary Threshold Inverted', thresh2) \n",
    "cv2.imshow('Truncated Threshold', thresh3) \n",
    "cv2.imshow('Set to 0', thresh4) \n",
    "\n",
    "# De-allocate any associated memory usage \n",
    "if cv2.waitKey(0) & 0xff == 27: \n",
    "    cv2.destroyAllWindows() \n"
   ]
  },
  {
   "cell_type": "markdown",
   "metadata": {},
   "source": [
    "### Image Blurring (Image Smoothing)\n",
    "\n",
    "Image blurring is achieved by convolving the image with a low-pass filter kernel. It is useful for removing noise. It actually removes high frequency content (eg: noise, edges) from the image. So edges are blurred a little bit in this operation (there are also blurring techniques which don't blur the edges)."
   ]
  },
  {
   "cell_type": "markdown",
   "metadata": {
    "id": "iCRoqxOxQYF_"
   },
   "source": [
    "#### **Make an image blurry**\n",
    "#### Gaussian Blur\n",
    "\n",
    "The GaussianBlur() uses the Gaussian kernel. The height and width of the kernel should be a positive and an odd number.\n",
    "\n",
    "Then you have to specify the X and Y direction that is sigmaX and sigmaY respectively. If only one is specified, both are considered the same. Gaussian blurring is highly effective in removing Gaussian noise from an image."
   ]
  },
  {
   "cell_type": "code",
   "execution_count": 4,
   "metadata": {
    "colab": {
     "base_uri": "https://localhost:8080/",
     "height": 381
    },
    "id": "UJkTDzVpao5c",
    "outputId": "0afa3adf-c7c7-4310-fc44-a4a87a9919b4"
   },
   "outputs": [],
   "source": [
    "img = cv2.imread(r'C:\\Users\\images.jpg')\n",
    "\n",
    "blur_image = cv2.GaussianBlur(img, (7,7), 0)\n",
    "\n",
    "cv2.imshow('Original Image', img)\n",
    "cv2.imshow('Blur Image', blur_image)\n",
    "cv2.waitKey(0)\n",
    "cv2.destroyAllWindows()"
   ]
  },
  {
   "cell_type": "markdown",
   "metadata": {},
   "source": [
    "#### Median Blur\n",
    "In median blurring, the median of all the pixels of the image is calculated inside the kernel area. The central value is then replaced with the resultant median value. Median blurring is used when there are salt and pepper noise in the image.\n",
    "\n",
    "Interestingly, in other filters, the central element is a newly calculated value which may be a pixel value in the image or a new value. But in median blurring, the central element is always replaced by some pixel value in the image. It reduces the noise effectively. Its kernel size should be a positive odd integer"
   ]
  },
  {
   "cell_type": "code",
   "execution_count": 5,
   "metadata": {
    "id": "B0Xjd4Yeao8o"
   },
   "outputs": [],
   "source": [
    "img = cv2.imread(r'C:\\Users\\images.jpg')\n",
    "\n",
    "blur_image = cv2.medianBlur(img,5) #this will apply 50% noise in the image along with median blur.\n",
    "\n",
    "cv2.imshow('Original Image', img)\n",
    "cv2.imshow('Blur Image', blur_image)\n",
    "cv2.waitKey(0)\n",
    "cv2.destroyAllWindows()"
   ]
  },
  {
   "cell_type": "markdown",
   "metadata": {},
   "source": [
    "### Canny Edge Detection\n",
    "To detect the edges in an image, you can use the Canny() method of cv2 which implements the Canny edge detector. The Canny edge detector is also known as the optimal detector.\n",
    "\n",
    "The syntax :\n",
    "cv2.Canny(image, minVal, maxVal)  #minVal and maxVal are the minimum and maximum intensity gradient values respectively."
   ]
  },
  {
   "cell_type": "code",
   "execution_count": 6,
   "metadata": {},
   "outputs": [
    {
     "data": {
      "text/plain": [
       "-1"
      ]
     },
     "execution_count": 6,
     "metadata": {},
     "output_type": "execute_result"
    }
   ],
   "source": [
    "img = cv2.imread(r'C:\\Users\\images.jpg')\n",
    "#use canny function for detecting edges\n",
    "edge_img = cv2.Canny(img,100,200)\n",
    "cv2.imshow(\"Detected Edges\", edge_img)\n",
    "cv2.waitKey(0)"
   ]
  },
  {
   "cell_type": "markdown",
   "metadata": {},
   "source": [
    "\n",
    "\n"
   ]
  }
 ],
 "metadata": {
  "colab": {
   "collapsed_sections": [],
   "name": "Essential-opencv-functions-for-computer-vision.ipynb",
   "provenance": []
  },
  "kernelspec": {
   "display_name": "Python 3",
   "language": "python",
   "name": "python3"
  },
  "language_info": {
   "codemirror_mode": {
    "name": "ipython",
    "version": 3
   },
   "file_extension": ".py",
   "mimetype": "text/x-python",
   "name": "python",
   "nbconvert_exporter": "python",
   "pygments_lexer": "ipython3",
   "version": "3.8.3"
  }
 },
 "nbformat": 4,
 "nbformat_minor": 1
}
