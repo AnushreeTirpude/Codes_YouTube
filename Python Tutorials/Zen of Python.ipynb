{
 "cells": [
  {
   "cell_type": "markdown",
   "metadata": {},
   "source": [
    "# The Zen of Python\n",
    "\n",
    "The Zen of Python by Tim Peters are 20 guidelines for the design of the Python language. Your Python code doesn’t necessarily have to follow these guidelines, but they’re good to keep in mind.\n",
    "\n",
    "Beautiful is better than ugly.\n",
    "Explicit is better than implicit.\n",
    "Simple is better than complex.\n",
    "Complex is better than complicated.\n",
    "Flat is better than nested.\n",
    "Sparse is better than dense.\n",
    "Readability counts.\n",
    "Special cases aren't special enough to break the rules.\n",
    "Although practicality beats purity.\n",
    "Errors should never pass silently.\n",
    "Unless explicitly silenced.\n",
    "In the face of ambiguity, refuse the temptation to guess.\n",
    "There should be one-- and preferably only one --obvious way to do it.\n",
    "Although that way may not be obvious at first unless you're Dutch.\n",
    "Now is better than never.\n",
    "Although never is often better than *right* now.\n",
    "If the implementation is hard to explain, it's a bad idea.\n",
    "If the implementation is easy to explain, it may be a good idea.\n",
    "Namespaces are one honking great idea -- let's do more of those!"
   ]
  },
  {
   "cell_type": "code",
   "execution_count": null,
   "metadata": {},
   "outputs": [],
   "source": [
    "# To get zen of python\n",
    "import this"
   ]
  },
  {
   "cell_type": "markdown",
   "metadata": {},
   "source": [
    "### Beautiful is better than ugly.\n",
    "A beautiful program is one that is enjoyable to read. This means first that it is consistent.It was in Structure and Interpretation of Computer Programs that the point was made: \"Programs must be written for people to read and only incidentally for machines to execute.\" Machines do not care about beauty, but people do. Of course, not every script needs to be beautiful, and beauty is subjective, but much of Python’s popularity is a result of being so easy to work with."
   ]
  },
  {
   "cell_type": "code",
   "execution_count": null,
   "metadata": {},
   "outputs": [],
   "source": [
    "clr = [\"red\", \"yellow\", \"orange\"]\n",
    "fruits = [\"apple\", \"banana\", \"mango\"]\n",
    "\n",
    "for x in clr:\n",
    "    print(x)\n",
    "print(\"************\\n\")\n",
    "for x in clr:\n",
    "  for y in fruits:\n",
    "    print(x, y)"
   ]
  },
  {
   "cell_type": "markdown",
   "metadata": {},
   "source": [
    "### Explicit is better than implicit.\n",
    "We humans celebrate light and fear the dark. Light helps us make sense of fuzzy images. In the same way, programming with more explicitness helps us make sense of abstract ideas. It’s better for code to be verbose and explicit. We shouldn't avoid code’s functionality."
   ]
  },
  {
   "cell_type": "code",
   "execution_count": null,
   "metadata": {},
   "outputs": [],
   "source": [
    "txt = \"My name is Nick, I am \" + str(36)\n",
    "print(txt)"
   ]
  },
  {
   "cell_type": "code",
   "execution_count": null,
   "metadata": {},
   "outputs": [],
   "source": [
    "txt = \"My name is Nick, I am \" + 36\n",
    "print(txt)"
   ]
  },
  {
   "cell_type": "markdown",
   "metadata": {},
   "source": [
    "### Simple is better than complex. \n",
    "### Complex is better than complicated.\n",
    "These two aphorisms remind us that building anything can be done using simple or complex techniques. With a simple problem, such as building a birdhouse, a simple solution is better. Building a diesel train engine, on the other hand, is a complex problem that requires complex techniques. Even if you could technically make a diesel train engine using birdhouse techniques, you probably would end up with a complicated, Rube Goldberg arrangement of birdhouse parts that wouldn’t be an ideal solution. Prefer simplicity to complexity, but know the limits of simplicity."
   ]
  },
  {
   "cell_type": "code",
   "execution_count": null,
   "metadata": {},
   "outputs": [],
   "source": [
    "def reverse(s):\n",
    "    if(len(s)==1):\n",
    "        return s\n",
    "    else:\n",
    "        return reverse(s[1:]) + s[0]\n",
    "\n",
    "original_str = \"ABC\"\n",
    "print(reverse(original_str))"
   ]
  },
  {
   "cell_type": "code",
   "execution_count": null,
   "metadata": {},
   "outputs": [],
   "source": [
    "string = \"ABC\"\n",
    "string[::-1]"
   ]
  },
  {
   "cell_type": "markdown",
   "metadata": {},
   "source": [
    "### Flat is better than nested.\n",
    "Programmers love to organize things into categories, especially categories that contain subcategories which contain other sub-subcategories. These hierarchies often don’t add organization so much.. It’s okay to have code in just one top-layer module or class instead of split up across multiple submodules or subclasses. Flat codes are typically easier and faster to parse, and should be preferred rather than nested."
   ]
  },
  {
   "cell_type": "code",
   "execution_count": null,
   "metadata": {},
   "outputs": [],
   "source": [
    "x = int(input('Enter your age: '))\n",
    "\n",
    "if x > 21:\n",
    "    if x > 100:\n",
    "        print('You are too old, go away!')\n",
    "    else:\n",
    "        print('Welcome, you are of the right age!')"
   ]
  },
  {
   "cell_type": "code",
   "execution_count": null,
   "metadata": {},
   "outputs": [],
   "source": [
    "x = int(input('Enter your age: '))\n",
    "\n",
    "if x > 21 and x > 100:\n",
    "    print('You are too old, go away!')\n",
    "else:\n",
    "    print('Welcome, you are of the right age!')"
   ]
  },
  {
   "cell_type": "markdown",
   "metadata": {},
   "source": [
    "## Sparse is better than dense.\n",
    "Programmers often like to cram as much functionality into as little code as possible, but don’t try to stick too much code on one line. Although efficiency is key, being too paragraph-y will stress the reader out and make it hard to read your code."
   ]
  },
  {
   "cell_type": "code",
   "execution_count": null,
   "metadata": {},
   "outputs": [],
   "source": [
    "list_a = [1, 3, 6, 9, 12, 15]\n",
    "print('\\n',\"The possible values in list are\",[number for number in list_a if number % 4 == 0])\n",
    "\n",
    "#The same could have broken into parts and could have been written to get the same result. Spread out code is a delight and denser one infuriates co-workers."
   ]
  },
  {
   "cell_type": "code",
   "execution_count": null,
   "metadata": {},
   "outputs": [],
   "source": [
    "list_a = [1, 3, 6, 9, 12, 15]\n",
    "list_b = [number for number in list_a if number % 4 == 0]\n",
    "\n",
    "print(list_b)"
   ]
  },
  {
   "cell_type": "markdown",
   "metadata": {},
   "source": [
    "###  Readability counts.\n",
    "Code is read more often than it’s written, so explicit, readable code is more important than terse, undocumented code. Many of these rules seem to overlap in their logic. Think about indentation and how much easier it is to read code that is."
   ]
  },
  {
   "cell_type": "code",
   "execution_count": null,
   "metadata": {},
   "outputs": [],
   "source": [
    "print('NO') if 3<2 else 42"
   ]
  },
  {
   "cell_type": "code",
   "execution_count": null,
   "metadata": {},
   "outputs": [],
   "source": [
    "if 3<2:\n",
    "    print(\"NO\")\n",
    "else:\n",
    "    print(42)"
   ]
  },
  {
   "cell_type": "markdown",
   "metadata": {},
   "source": [
    "### Special cases aren’t special enough to break the rules. \n",
    "A programmer must adhere to good “programming practices”. Let’s say, you import a library but it does not adhere to good programming practices. It must help you in getting your task done but keep in mind, libraries and languages should always follow the best “programming practices” and known for their consistency.\n",
    "### Although practicality beats purity.\n",
    "Contradictory to the above “Special cases aren’t special enough to break the rules” aphorism, this one suggests there might be an exception to the given set of rules. The keyword here is “might”"
   ]
  },
  {
   "cell_type": "code",
   "execution_count": null,
   "metadata": {},
   "outputs": [],
   "source": [
    "33/31"
   ]
  },
  {
   "cell_type": "code",
   "execution_count": null,
   "metadata": {},
   "outputs": [],
   "source": [
    "33/31==1"
   ]
  },
  {
   "cell_type": "code",
   "execution_count": null,
   "metadata": {},
   "outputs": [],
   "source": [
    "round(33/31)==1"
   ]
  },
  {
   "cell_type": "markdown",
   "metadata": {},
   "source": [
    "### Errors should never pass silently. \n",
    "Handling \"exceptional conditions\" is one of the most debated issues in programming. That could be because the stakes are high: mishandled error values can bring down even the largest systems. Since \"exception conditions,\" by nature, are the least tested but occur with unpleasant frequency, correctly handling them can save a system.\n",
    "### Unless explicitly silenced\n",
    "Python allows us to catch exceptions with except. This means errors can be explicitly silenced. This explicitness means that the except line is visible in code reviews. It makes sense to question why this is the right place to silence, and potentially recover from, the exception. It makes sense to ask if we are catching too many exceptions or too few.\n",
    "Because this is all explicit, it is possible for someone to read the code and understand which exceptional conditions are recoverable.\n",
    "Though you can always choose to explicitly ignore the errors your programs cause, just be sure you are making the conscious choice to do so."
   ]
  },
  {
   "cell_type": "code",
   "execution_count": null,
   "metadata": {},
   "outputs": [],
   "source": [
    "try:\n",
    "    print(P)\n",
    "except:\n",
    "  print(\"Something else went wrong\")"
   ]
  },
  {
   "cell_type": "code",
   "execution_count": null,
   "metadata": {},
   "outputs": [],
   "source": [
    "try:\n",
    "    print(P)\n",
    "except NameError:\n",
    "  print(\"Variable x is not defined\")"
   ]
  },
  {
   "cell_type": "markdown",
   "metadata": {},
   "source": [
    "### In the face of ambiguity, refuse the temptation to guess.\n",
    "Computers do what we want them to do. Still, these machines have made us superstitious. There is always a reason why a computer code is not behaving properly. Only and only your logic can fix it. If your code isn’t working, there is a reason and only careful, critical thinking will solve it. Refuse the temptation to blindly try solutions until something seems to work; often you have merely masked the problem rather than solved it."
   ]
  },
  {
   "cell_type": "markdown",
   "metadata": {},
   "source": [
    "### There should be one—and preferably only one—obvious way to do it.\n",
    "Well, having three or four different ways to write code that does the same thing is a double-edged sword; you have flexibility in how you write code, but now you have to learn every possible way it could have been written in order to read it. This flexibility isn’t worth the 3x or 4x effort needed to learn a programming language\n",
    "### Although that way may not be obvious at first unless you’re Dutch\n",
    "Referring to Guido van Rossum, Python creator, this aphorism says that the language rule will not be easy to learn or recall unless and until you are the creator of the code."
   ]
  },
  {
   "cell_type": "code",
   "execution_count": null,
   "metadata": {},
   "outputs": [],
   "source": [
    "#To get a string which is n (non-negative integer) copies of a given string.\n",
    "def larger_string(str, n):\n",
    "   result = \"\"\n",
    "   for i in range(n):\n",
    "      result = result + str\n",
    "   return result\n",
    "\n",
    "print(larger_string('abc', 2))\n",
    "print(larger_string('.py', 3))"
   ]
  },
  {
   "cell_type": "code",
   "execution_count": null,
   "metadata": {},
   "outputs": [],
   "source": [
    "def replay(n, string):\n",
    "   return abs(n) * string\n",
    "print(replay(2, 'abc'))\n",
    "print(replay(3, '.py'))"
   ]
  },
  {
   "cell_type": "markdown",
   "metadata": {},
   "source": [
    "### If the implementation is hard to explain, it’s a bad idea\n",
    "If you are explaining your code to someone and it is getting hard to explain it to your acquaintances or co-workers, then there is something wrong with your code. It is definitely not simple and is complicated!\n",
    "### If the implementation is easy to explain, it may be a good idea\n",
    "Just opposite to above aphorism, this one simply says a simple, readable code is easy to explain. And, if you are able to do it, you are on the right track."
   ]
  },
  {
   "cell_type": "markdown",
   "metadata": {},
   "source": [
    "### Namespaces are one honking great idea — let’s do more of those!\n",
    "In Python, a namespace is basically a system to have a unique name for each and every object. It is a great way to access every underlying object."
   ]
  },
  {
   "cell_type": "code",
   "execution_count": null,
   "metadata": {},
   "outputs": [],
   "source": [
    "a = 1\n",
    "print('id(a) =', id(a))\n",
    "\n",
    "a = a+1\n",
    "print('id(a) =', id(a))"
   ]
  },
  {
   "cell_type": "markdown",
   "metadata": {},
   "source": [
    "### Now is better than never.\n",
    "There is always the temptation to delay things so that they can be perfect. They will never be perfect, though. Ultimately, a change always happens at some now: the only thing that delaying does is move it to a future person's \"now.\"\n",
    "### Although never is often better than *right* now\n",
    "This, however, does not mean things should be rushed. Decide the criteria for release in terms of testing, documentation, user feedback, and so on. \"Right now,\" as in before the change is ready, is not a good time."
   ]
  }
 ],
 "metadata": {
  "kernelspec": {
   "display_name": "Python 3",
   "language": "python",
   "name": "python3"
  },
  "language_info": {
   "codemirror_mode": {
    "name": "ipython",
    "version": 3
   },
   "file_extension": ".py",
   "mimetype": "text/x-python",
   "name": "python",
   "nbconvert_exporter": "python",
   "pygments_lexer": "ipython3",
   "version": "3.8.3"
  }
 },
 "nbformat": 4,
 "nbformat_minor": 4
}
